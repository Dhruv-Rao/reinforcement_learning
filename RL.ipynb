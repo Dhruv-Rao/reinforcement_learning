{
  "nbformat": 4,
  "nbformat_minor": 0,
  "metadata": {
    "colab": {
      "provenance": []
    },
    "kernelspec": {
      "name": "python3",
      "display_name": "Python 3"
    },
    "language_info": {
      "name": "python"
    }
  },
  "cells": [
    {
      "cell_type": "code",
      "source": [
        "# Install the necessary packages\n",
        "!pip install gymnasium pyvirtualdisplay > /dev/null 2>&1\n",
        "!pip install pygame"
      ],
      "metadata": {
        "id": "-w84fHa0Ms2T",
        "colab": {
          "base_uri": "https://localhost:8080/"
        },
        "outputId": "797bbb16-0b8f-4f9c-fea4-1b060e7ef314"
      },
      "execution_count": null,
      "outputs": [
        {
          "output_type": "stream",
          "name": "stdout",
          "text": [
            "Requirement already satisfied: pygame in /usr/local/lib/python3.10/dist-packages (2.5.2)\n"
          ]
        }
      ]
    },
    {
      "cell_type": "code",
      "source": [
        "import gymnasium as gym\n",
        "from gymnasium import spaces\n",
        "import numpy as np\n",
        "import pygame"
      ],
      "metadata": {
        "id": "irNpc8KiM-nX"
      },
      "execution_count": null,
      "outputs": []
    },
    {
      "cell_type": "code",
      "source": [
        "# Create the grid environment\n",
        "class FrozenLake(gym.Env):\n",
        "  def __init__(self, grid_width, grid_height, grid_description):\n",
        "      self.width = grid_width\n",
        "      self.height = grid_height\n",
        "      self.observation_space = spaces.Discrete(grid_width*grid_height)\n",
        "      self.action_space = spaces.Discrete(4)\n",
        "      self.location = (0,0)\n",
        "      self.grid = np.array(list(grid_description)).reshape((grid_height, grid_width))"
      ],
      "metadata": {
        "id": "8Tef15zqOGux"
      },
      "execution_count": null,
      "outputs": []
    },
    {
      "cell_type": "code",
      "source": [
        "# Define an observation\n",
        "class FrozenLake(FrozenLake):\n",
        "  def _get_obs(self):\n",
        "      return self.location"
      ],
      "metadata": {
        "id": "q6D1dIzfOJg2"
      },
      "execution_count": null,
      "outputs": []
    },
    {
      "cell_type": "code",
      "source": [
        "# Reset the environment\n",
        "class FrozenLake(FrozenLake):\n",
        "  def reset(self, seed=None, options=None):\n",
        "    super().reset(seed=seed)\n",
        "    self.location = (0,0)\n",
        "    observation = self._get_obs()\n",
        "    info = None\n",
        "    return observation, info"
      ],
      "metadata": {
        "id": "JrvdTcHxMxJM"
      },
      "execution_count": null,
      "outputs": []
    },
    {
      "cell_type": "code",
      "source": [
        "# Compute reward for the agent at any given state\n",
        "class FrozenLake(FrozenLake):\n",
        "  def compute_reward(self, observation):\n",
        "      if (observation[0] < 0 or observation[0] >= self.width or observation[1] < 0 or observation[1] >= self.height):\n",
        "        reward = -100\n",
        "      else:\n",
        "        grid_state = self.grid[observation[1]][observation[0]]\n",
        "        if grid_state == \"G\":\n",
        "          reward = 100\n",
        "        elif grid_state == \"I\":\n",
        "          reward = -2\n",
        "        elif grid_state == \"H\":\n",
        "          reward = -50\n",
        "      return reward"
      ],
      "metadata": {
        "id": "EM8PHIyiSq5A"
      },
      "execution_count": null,
      "outputs": []
    },
    {
      "cell_type": "code",
      "source": [
        "# Define the movement function for the agent\n",
        "from typing_extensions import Self\n",
        "class FrozenLake(FrozenLake):\n",
        "  def step(self, action):\n",
        "      if action == 0: #North\n",
        "        self.location = (self.location[0], self.location[1]-1)\n",
        "      elif action == 1: #East\n",
        "        self.location = (self.location[0]+1, self.location[1])\n",
        "      elif action == 2: #South\n",
        "        self.location = (self.location[0], self.location[1]+1)\n",
        "      elif action == 3: #West\n",
        "        self.location = (self.location[0]-1, self.location[1])\n",
        "      # The above implementation allows the agent to go out of bounds, at which\n",
        "      # point it would terminate fully\n",
        "      observation = self._get_obs()\n",
        "      reward = self.compute_reward(observation)\n",
        "\n",
        "      if reward == 100 or reward == -100 or reward == -50:\n",
        "        terminated = True\n",
        "      else:\n",
        "        terminated = False\n",
        "\n",
        "      return observation, reward, terminated, False, None"
      ],
      "metadata": {
        "id": "QOXxahwhS5hX"
      },
      "execution_count": null,
      "outputs": []
    },
    {
      "cell_type": "code",
      "source": [
        "# Render the lake using PyGame\n",
        "class FrozenLake(FrozenLake):\n",
        "  def _render_frame(self, screen, window_width, window_height):\n",
        "    rect_width = window_width/self.width\n",
        "    rect_height = window_height/self.height\n",
        "    agent_x_location = (self.location[0]+0.5)*rect_width\n",
        "    agent_y_location = (self.location[1]+0.5)*rect_height\n",
        "    for i in range (0, self.height):\n",
        "      for j in range (0, self.width):\n",
        "        if self.grid[i][j] == \"I\":\n",
        "          color = (255, 255, 255)\n",
        "        elif self.grid[i][j] == \"H\":\n",
        "          color = (0, 0, 0)\n",
        "        elif self.grid[i][j] == \"G\":\n",
        "          color = (0, 255, 0)\n",
        "        pygame.draw.rect(screen, color, (j*rect_width, i*rect_height, rect_width, rect_height))\n",
        "    pygame.draw.circle(screen, \"purple\",(agent_x_location, agent_y_location), min(rect_width, rect_height) * 1 /3)\n",
        "  def render(self, screen, window_width, window_height):\n",
        "    return self._render_frame(screen, window_width, window_height)"
      ],
      "metadata": {
        "id": "l7M0kkLXVIMb"
      },
      "execution_count": null,
      "outputs": []
    },
    {
      "cell_type": "code",
      "source": [
        "# Check that agent is capable of moving randomly\n",
        "import cv2\n",
        "from IPython.display import clear_output\n",
        "from google.colab.patches import cv2_imshow\n",
        "import time\n",
        "\n",
        "lake = FrozenLake(3, 3, \"IIHHIIIIG\")\n",
        "window_width = 400\n",
        "window_height = 400\n",
        "pygame.init()\n",
        "screen = pygame.display.set_mode((window_width, window_height))\n",
        "\n",
        "for i in range(0, 1):\n",
        "  observation, info = lake.reset()\n",
        "  terminated = False\n",
        "  lake.render(screen, window_width, window_height)\n",
        "  view = pygame.surfarray.array3d(screen)\n",
        "  view = view.transpose([1, 0, 2])\n",
        "  img_bgr = cv2.cvtColor(view, cv2.COLOR_RGB2BGR)\n",
        "  cv2_imshow(img_bgr)\n",
        "  time.sleep(.5)\n",
        "  while not terminated:\n",
        "    action = lake.action_space.sample()\n",
        "    observation, reward, terminated, truncated, info = lake.step(action)\n",
        "    # If the agent went out of bounds it disappears from the displayed grid and\n",
        "    # only the blank grid is shown\n",
        "    lake.render(screen, window_width, window_height)\n",
        "    view = pygame.surfarray.array3d(screen)\n",
        "    view = view.transpose([1, 0, 2])\n",
        "    img_bgr = cv2.cvtColor(view, cv2.COLOR_RGB2BGR)\n",
        "    cv2_imshow(img_bgr)\n",
        "    time.sleep(.5)"
      ],
      "metadata": {
        "id": "e7bWZ_R-OScu",
        "colab": {
          "base_uri": "https://localhost:8080/",
          "height": 817
        },
        "outputId": "b508c3bd-cf10-450d-d85c-e59c2b8bd655"
      },
      "execution_count": null,
      "outputs": [
        {
          "output_type": "display_data",
          "data": {
            "text/plain": [
              "<PIL.Image.Image image mode=RGB size=400x400>"
            ],
            "image/png": "[encoded data removed]"
          },
          "metadata": {}
        },
        {
          "output_type": "display_data",
          "data": {
            "text/plain": [
              "<PIL.Image.Image image mode=RGB size=400x400>"
            ],
            "image/png": "[encoded data removed]"
          },
          "metadata": {}
        }
      ]
    },
    {
      "cell_type": "code",
      "source": [
        "# Make a class to perform q-learning (reinforcement learning) and define the\n",
        "# table of updates\n",
        "import random\n",
        "\n",
        "class QLearning():\n",
        "  def __init__(self, env, exploration, gamma, alpha, obs_space_n, action_space_n):\n",
        "    self.env = env\n",
        "    self.exploration = exploration\n",
        "    self.gamma = gamma\n",
        "    self.alpha = alpha\n",
        "\n",
        "    qtable = {}\n",
        "    for i in range (0, env.width):\n",
        "      for j in range (0, env.height):\n",
        "        q_actions = {}\n",
        "        qtable[(i,j)] = q_actions\n",
        "        for k in range (0, action_space_n):\n",
        "          q_actions[k] = 0\n",
        "    self.q_table = qtable"
      ],
      "metadata": {
        "id": "t41wZCJUZ11n"
      },
      "execution_count": null,
      "outputs": []
    },
    {
      "cell_type": "code",
      "source": [
        "# Define a sample action to take during the process of training\n",
        "class QLearning(QLearning):\n",
        "  def sample_action(self, observation):\n",
        "    random_number = random.random()\n",
        "    if random_number < self.exploration:\n",
        "      return self.env.action_space.sample()\n",
        "    else:\n",
        "      actions = self.q_table[observation]\n",
        "      optimalaction = max(actions, key=actions.get)\n",
        "      return optimalaction"
      ],
      "metadata": {
        "id": "OOO0kIl1agh1"
      },
      "execution_count": null,
      "outputs": []
    },
    {
      "cell_type": "code",
      "source": [
        "# Method that updates the table\n",
        "class QLearning(QLearning):\n",
        "  def update_table(self, observation, action, reward, new_observation, terminated):\n",
        "      if terminated:\n",
        "        self.q_table[observation][action] = reward\n",
        "      else:\n",
        "        actions = self.q_table[new_observation]\n",
        "        max_reward = max(actions.values())\n",
        "        sample = (reward + self.gamma*max_reward)\n",
        "        self.q_table[observation][action] = (1-self.alpha)*self.q_table[observation][action] + self.alpha*sample"
      ],
      "metadata": {
        "id": "j9MljYAXavVB"
      },
      "execution_count": null,
      "outputs": []
    },
    {
      "cell_type": "markdown",
      "source": [
        "Use the two classes defined below to train your policy so that it solves the environment."
      ],
      "metadata": {
        "id": "tv8gYvjvbO8D"
      }
    },
    {
      "cell_type": "code",
      "source": [
        "# Train the q-learning policy so agent learns optimal path to goal\n",
        "lake = FrozenLake(5, 5, \"IIIHIHIHHHIIIIGIIIIHIIIIH\")\n",
        "q_learning = QLearning(lake, .3, .99, .9, lake.width * lake.height, lake.action_space.n)\n",
        "for i in range (0, 10000):\n",
        "  observation, info = lake.reset()\n",
        "  terminated = False\n",
        "  while (not terminated):\n",
        "    action = q_learning.sample_action(observation)\n",
        "    new_observation, reward, terminated, truncated, info = lake.step(action)\n",
        "    q_learning.update_table(observation, action, reward, new_observation, terminated)\n",
        "    observation = new_observation"
      ],
      "metadata": {
        "id": "whI8jyeTbOTn"
      },
      "execution_count": null,
      "outputs": []
    },
    {
      "cell_type": "code",
      "source": [
        "# Run the solved problem!\n",
        "q_learning.exploration = 0.0\n",
        "for i in range(0, 1):\n",
        "  observation, info = lake.reset()\n",
        "  terminated = False\n",
        "  lake.render(screen, window_width, window_height)\n",
        "  view = pygame.surfarray.array3d(screen)\n",
        "  view = view.transpose([1, 0, 2])\n",
        "  img_bgr = cv2.cvtColor(view, cv2.COLOR_RGB2BGR)\n",
        "  cv2_imshow(img_bgr)\n",
        "  time.sleep(.5)\n",
        "  # Removed the clear_output line so that we show initial output.\n",
        "  while not terminated:\n",
        "    action = q_learning.sample_action(observation)\n",
        "    observation, reward, terminated, truncated, info = lake.step(action)\n",
        "    lake.render(screen, window_width, window_height)\n",
        "    view = pygame.surfarray.array3d(screen)\n",
        "    view = view.transpose([1, 0, 2])\n",
        "    img_bgr = cv2.cvtColor(view, cv2.COLOR_RGB2BGR)\n",
        "    cv2_imshow(img_bgr)\n",
        "    time.sleep(.5)"
      ],
      "metadata": {
        "id": "-4aKV8ZTbdWT",
        "colab": {
          "base_uri": "https://localhost:8080/",
          "height": 1000
        },
        "outputId": "9477873f-d24a-4b93-d062-da4ec44303f6"
      },
      "execution_count": null,
      "outputs": [
        {
          "output_type": "display_data",
          "data": {
            "text/plain": [
              "<PIL.Image.Image image mode=RGB size=400x400>"
            ],
            "image/png": "[encoded data removed]"
          },
          "metadata": {}
        },
        {
          "output_type": "display_data",
          "data": {
            "text/plain": [
              "<PIL.Image.Image image mode=RGB size=400x400>"
            ],
            "image/png": "[encoded data removed]"
          },
          "metadata": {}
        },
        {
          "output_type": "display_data",
          "data": {
            "text/plain": [
              "<PIL.Image.Image image mode=RGB size=400x400>"
            ],
            "image/png": "[encoded data removed]"
          },
          "metadata": {}
        },
        {
          "output_type": "display_data",
          "data": {
            "text/plain": [
              "<PIL.Image.Image image mode=RGB size=400x400>"
            ],
            "image/png": "[encoded data removed]"
          },
          "metadata": {}
        },
        {
          "output_type": "display_data",
          "data": {
            "text/plain": [
              "<PIL.Image.Image image mode=RGB size=400x400>"
            ],
            "image/png": "[encoded data removed]"
          },
          "metadata": {}
        },
        {
          "output_type": "display_data",
          "data": {
            "text/plain": [
              "<PIL.Image.Image image mode=RGB size=400x400>"
            ],
            "image/png": "[encoded data removed]"
          },
          "metadata": {}
        },
        {
          "output_type": "display_data",
          "data": {
            "text/plain": [
              "<PIL.Image.Image image mode=RGB size=400x400>"
            ],
            "image/png": "[encoded data removed]"
          },
          "metadata": {}
        }
      ]
    }
  ]
}